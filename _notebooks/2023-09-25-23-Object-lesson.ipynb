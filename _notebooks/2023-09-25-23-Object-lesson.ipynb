{
 "cells": [
  {
   "cell_type": "markdown",
   "metadata": {},
   "source": [
    "---\n",
    "## Object Classes\n",
    "toc: true\n",
    "layout: post\n",
    "title: Object classes & Popcorn Hacks\n",
    "description: Object classes, popcorn hacks completed.\n",
    "categories: []\n",
    "type: ccc\n",
    "---"
   ]
  },
  {
   "cell_type": "markdown",
   "metadata": {},
   "source": [
    "### Java objects\n",
    "-  In Java, objects are essentially instances of classes. They represent real-world entities or concepts and contain both data and behaviors, facilitating organized and modular software design."
   ]
  },
  {
   "cell_type": "markdown",
   "metadata": {},
   "source": [
    "### Common Types of Java Classes\n",
    "In Java, classes are the fundamental building blocks of Object-Oriented Programming (OOP). They define the structure and behavior of objects, serving as templates or blueprints from which objects are created. Java programs typically consist of multiple classes, each designed to fulfill a specific role. One Java class that you should be familliar with is: \n",
    "\n",
    "\n",
    "1. Utility Classes: Utility classes contain static methods that provide common utility functions. These classes are not meant to be instantiated, and they often involve operations such as mathematical calculations, string manipulation, or date formatting. The Math class is an example of a utility class.\n",
    "    - Java Arrays Class\n",
    "    - Java HashMap Class\n",
    "    - Java LinkedList Class"
   ]
  },
  {
   "cell_type": "code",
   "execution_count": 11,
   "metadata": {},
   "outputs": [
    {
     "name": "stdout",
     "output_type": "stream",
     "text": [
      "[1, 2, 5, 5, 6, 9]\n"
     ]
    }
   ],
   "source": [
    "import java.util.Arrays;\n",
    "\n",
    "public class ArraySortExample {\n",
    "    public static void main(String[] args) {\n",
    "        int[] numbers = {5, 2, 9, 1, 5, 6};\n",
    "        Arrays.sort(numbers);\n",
    "        System.out.println(Arrays.toString(numbers));\n",
    "    }\n",
    "}\n",
    "String[] words = {\"main\"};\n",
    "ArraySortExample.main(words);"
   ]
  },
  {
   "cell_type": "markdown",
   "metadata": {},
   "source": [
    "<img src=\"image-4.png\" alt=\"Alt text\" width=\"600\" height=\"500\">"
   ]
  },
  {
   "cell_type": "markdown",
   "metadata": {},
   "source": [
    "#### Java Objects\n",
    "An object in Java is a basic unit of Object-Oriented Programming and represents real-life entities. `Objects are the instances of a class that are created to use the attributes and methods of a class.`  A typical Java program creates many objects, which as you know, interact by invoking methods. An object consists of : \n",
    "\n",
    "1. State: It is represented by attributes of an object. It also reflects the properties of an object.\n",
    "2. Behavior: It is represented by the methods of an object. It also reflects the response of an object with other objects."
   ]
  },
  {
   "cell_type": "markdown",
   "metadata": {},
   "source": [
    "### Declaring Objects \n",
    "\n",
    "When an object of a class is created, the class is said to be instantiated. All the instances share the attributes and the behavior of the class. But the values of those attributes, i.e. the state are unique for each object. A single class may have any number of instances.\n",
    "\n",
    "As we declare variables like (type name;). This notifies the compiler that we will use the name to refer to data whose type is type. With a primitive variable, this declaration also reserves the proper amount of memory for the variable. So for reference variables , the type must be strictly a concrete class name. In general, we can’t create objects of an abstract class or an interface.\n",
    "\n",
    "### Initializing a Java Object \n",
    "The new operator instantiates a class by allocating memory for a new object and returning a reference to that memory. The new operator also invokes the class constructor. "
   ]
  },
  {
   "cell_type": "code",
   "execution_count": 8,
   "metadata": {},
   "outputs": [
    {
     "name": "stdout",
     "output_type": "stream",
     "text": [
      "Bark\n",
      "Bark\n",
      "Bark\n",
      "Bark\n",
      "Bark\n"
     ]
    }
   ],
   "source": [
    "public class Dog {\n",
    "    public String Name; \n",
    "    public int Age;\n",
    "\n",
    "    public void Bark(int times) {\n",
    "        for (int i = 0; i < times; i++) {\n",
    "            System.out.println(\"Bark\"); \n",
    "        }\n",
    "    }\n",
    "\n",
    "    public static void main(String[] args) { \n",
    "        Dog dog = new Dog();\n",
    "\n",
    "        dog.Bark(5);\n",
    "    }\n",
    "}\n",
    "Dog.main(words);\n"
   ]
  },
  {
   "cell_type": "markdown",
   "metadata": {},
   "source": [
    "### Calling a non-void method\n",
    "It's possible to call a non-void method on an object so that it returns a value, the type of which is specified with the method."
   ]
  },
  {
   "cell_type": "code",
   "execution_count": 8,
   "metadata": {},
   "outputs": [
    {
     "name": "stdout",
     "output_type": "stream",
     "text": [
      "Larry\n"
     ]
    }
   ],
   "source": [
    "public class Dog {\n",
    "    public String Name; //instance variables\n",
    "    public int Age;\n",
    "\n",
    "    public Dog(String name, int age) { //construction method\n",
    "        Name = name;\n",
    "        Age = age;\n",
    "    }\n",
    "\n",
    "    public String getName() { //non-void method that returns a String\n",
    "        return Name;\n",
    "    }\n",
    "\n",
    "    public static void main(String[] args) { //main code\n",
    "        Dog d = new Dog(\"Larry\", 4);\n",
    "        System.out.println(d.getName());\n",
    "    }\n",
    "}\n",
    "\n",
    "Dog.main(null);"
   ]
  },
  {
   "cell_type": "markdown",
   "metadata": {},
   "source": [
    "#### Popcorn Hacks\n",
    "Modify the code below (the same code as above) to demonstrate one of the following:\n",
    "- An additional Non-void method\n",
    "- Multiple uses of the same Non-void method on different objects"
   ]
  },
  {
   "cell_type": "code",
   "execution_count": 14,
   "metadata": {},
   "outputs": [
    {
     "name": "stdout",
     "output_type": "stream",
     "text": [
      "Dog 1: Name is Larry & Age is 4\n",
      "Dog 2: Name is Rex & Age is 2\n"
     ]
    }
   ],
   "source": [
    "public class Dog {\n",
    "    public String Name; // instance variables\n",
    "    public int Age;\n",
    "\n",
    "    public Dog(String name, int age) { // constructor method\n",
    "        Name = name;\n",
    "        Age = age;\n",
    "    }\n",
    "\n",
    "    public String getName() { // non-void method that returns a String\n",
    "        return Name;\n",
    "    }\n",
    "\n",
    "    public int getAge() { // additional non-void method that returns an int\n",
    "        return Age;\n",
    "    }\n",
    "\n",
    "    public static void main(String[] args) { // main code\n",
    "        Dog d1 = new Dog(\"Larry\", 4);\n",
    "        Dog d2 = new Dog(\"Rex\", 2);\n",
    "\n",
    "        System.out.println(\"Dog 1: Name is \" + d1.getName() + \" & Age is \" + d1.getAge());\n",
    "        System.out.println(\"Dog 2: Name is \" + d2.getName() + \" & Age is \" + d2.getAge());\n",
    "    }\n",
    "}\n",
    "\n",
    "Dog.main(null);"
   ]
  },
  {
   "cell_type": "markdown",
   "metadata": {},
   "source": [
    "### String Objects\n",
    "String objects are built-in objects in Java that you're probably pretty familiar with, but it also functions like a class, with the following properties:\n",
    "- String objects can be initialized with the new keyword\n",
    "- Method that acts upon String objects can't change the String itself, it is <b>inmmutable</b>. \n",
    "- String objects can be concatenated using the + operator, creating a new string that is the combination of the other two strings\n",
    "- Escape sequences can be used to print characters that are otherwise unavailable, using the \"\\\" (backslash) symbol\n",
    "    - \\\" creates a double quote\n",
    "    - \\\\\\\\ creates a regular backslash (I actually had to use 4 backslashes for this since markdown also recognizes this combination)\n",
    "    - \\n creates a newline\n"
   ]
  },
  {
   "cell_type": "code",
   "execution_count": 15,
   "metadata": {},
   "outputs": [
    {
     "name": "stdout",
     "output_type": "stream",
     "text": [
      "hello\n",
      "hello\n",
      "hellohello\n",
      "hello\n",
      "In order to type out a \\\\ string in Java String, you need 4 \\'s \n",
      " You need 3 \\ and 1 \" to type out a \\\"\n"
     ]
    }
   ],
   "source": [
    "public class Strings_demo {\n",
    "    public static void main(String[] args) { //main code\n",
    "        String s1 = \"hello\"; // The way you are probably used to for string objects\n",
    "        String s2 = new String(\"hello\"); // an alternate method to create the same string variable\n",
    "        System.out.println(s1);// these two println statements should print the same thing\n",
    "        System.out.println(s2);\n",
    "\n",
    "        String s3 = s1+s2; // s3 is a concatenation of s1 and s2\n",
    "        System.out.println(s3);\n",
    "        System.out.println(s1); // the method doesn't actually change the String itself\n",
    "\n",
    "        String s4 = new String(\"In order to type out a \\\\\\\\ string in Java String, you need 4 \\\\'s \\n You need 3 \\\\'s and 1 \\\" to type out a \\\\\\\"\"); // a demonstration of the escape sequences\n",
    "        System.out.println(s4);\n",
    "    }\n",
    "}\n",
    "Strings_demo.main(null);"
   ]
  },
  {
   "cell_type": "markdown",
   "metadata": {},
   "source": [
    "Here are some of the String methods we use:\n",
    "|Syntax|Definition|\n",
    "|-|-|\n",
    "|String(String str)|Constructs a new String object with the same sequence of characters as str|\n",
    "|int length()|Returns the number of characters in the String|\n",
    "|String substring(int from, in to)|Returns the substring beginning at from to one before to|\n",
    "|String substring(int from)|Returns the substring beginning at from to the end|\n",
    "|int indexOf(String str)|Returns the first occurence of str, returns -1 if not found|\n",
    "|boolean equals(String other)|Returns true if this is equal to other and vice versa|\n",
    "|int compareTo(String other)|Returns a value <0 if this is less than other, 0 if they are equal and a value >- if this is greater than other|"
   ]
  },
  {
   "cell_type": "code",
   "execution_count": 23,
   "metadata": {},
   "outputs": [
    {
     "name": "stdout",
     "output_type": "stream",
     "text": [
      "14\n",
      "hello\n",
      "hello\n",
      "4\n",
      "false\n",
      "4\n",
      "-4\n",
      "true\n",
      "0\n",
      "hello\n",
      "hihihellothere\n",
      "hello\n"
     ]
    }
   ],
   "source": [
    "public class Strings_demo_2 {\n",
    "    public static void main(String[] args) { //main code\n",
    "        String s1 = \"hello\"; // Strings for demonstration\n",
    "        String s2 = new String(\"hihihellothere\"); // Construction using the method\n",
    "        System.out.println(s2.length());\n",
    "\n",
    "        String s3 = s2.substring(4,9); // creating a substring of s1 from index 4 to 9-1\n",
    "        System.out.println(s3);\n",
    "        System.out.println(s1); // these should be the same\n",
    "\n",
    "        System.out.println(s2.indexOf(s1)); //returns the first occurence of hello in hihihellothere (4)\n",
    "\n",
    "        System.out.println(s2.equals(s1)); // returns if hello is the same as hihihellothere (it's not)\n",
    "        System.out.println(s2.compareTo(s1)); // compares hihihellothere to hello, since it greater since h=h and i>e, this returns a positive number\n",
    "        System.out.println(s1.compareTo(s2)); // the reversal of the above, returns a negative number\n",
    "        System.out.println(s3.equals(s1)); // returns if hello is the same as hello (it's)\n",
    "        System.out.println(s3.compareTo(s1)); // compares hello to hello, since they are the same, this returns a 0\n",
    "\n",
    "        System.out.println(s1);// none of these methods affect the original strings, since Strings are immutatble\n",
    "        System.out.println(s2);\n",
    "        System.out.println(s3);\n",
    "    }\n",
    "}\n",
    "Strings_demo_2.main(null);"
   ]
  },
  {
   "cell_type": "markdown",
   "metadata": {},
   "source": [
    "#### Popcorn Hacks\n",
    "Using the methods above, create a method that is able to return the position of a substring in a string and use s.o.pl to prove it."
   ]
  },
  {
   "cell_type": "code",
   "execution_count": 15,
   "metadata": {},
   "outputs": [
    {
     "name": "stdout",
     "output_type": "stream",
     "text": [
      "Substring position: 2\n"
     ]
    }
   ],
   "source": [
    "public class StringSub {\n",
    "    public static void main(String[] args) {\n",
    "        String word = \"random\";\n",
    "        String subword = word.substring(2, 4);\n",
    "\n",
    "        int position = SubstringPosition(word, subword);\n",
    "        System.out.println(\"Substring position: \" + position);\n",
    "    }\n",
    "\n",
    "    public static int SubstringPosition(String original, String sub) {\n",
    "        return original.indexOf(sub);\n",
    "    }\n",
    "}\n",
    "\n",
    "StringSub.main(null);"
   ]
  },
  {
   "cell_type": "markdown",
   "metadata": {},
   "source": [
    "### Wrapper Classes\n",
    "You may remember the Wrapper classes from before, this will present two additional wrapper classes - Integer and Double\n",
    "\n",
    "- Integer (not int - notice the non-shortend word and capitalization)\n",
    "    - int is a primitive data type, and Integer is a wrapper class\n",
    "\n",
    "|Syntax|Definition|\n",
    "|-|-|\n",
    "|Integer(int value)|Constructs a new Integer object representing the value|\n",
    "|Integer.MIN_VALUE|the minimum  value represented by a int or Integer|\n",
    "|Integer.MAX_VALUE|the maximum  value represented by a int or Integer|\n",
    "|int intValue()|Returns the value of Integer as int|\n",
    "\n",
    "- Double (not double)\n",
    "    - double is a primitive data type, Double is a wrapper class\n",
    "\n",
    "|Syntax|Definition|\n",
    "|-|-|\n",
    "|Double(double value)|Constructs a new Double object representing the value|\n",
    "|double doubleValue()|Returns the value of the Double as a double|\n",
    "\n",
    "(not the most exciting thing I know)\n",
    "\n",
    "#### ok but why\n",
    "In Java, Wrapper classes are used to convert between primitive data types (int, boolean) and only store a single value and Reference types (String, ArrayList).\n",
    "It provides a way for us to use primitive datas as objects\n",
    "\n",
    "#### Autoboxing and Unboxing\n",
    "As of Java 5.0, autoboxing and unboxing are added\n",
    "\n",
    "Autoboxing is the automatic process that Java compiler uses to convert primitive types and their respective Wrapper classes\n",
    "\n",
    "Unboxing is the opposite, comverting Wrapper classes to primitive types\n"
   ]
  },
  {
   "cell_type": "code",
   "execution_count": 33,
   "metadata": {},
   "outputs": [
    {
     "name": "stdout",
     "output_type": "stream",
     "text": [
      "10\n",
      "10\n",
      "25.5\n",
      "25.5\n",
      "15\n",
      "23.7\n",
      "-2147483648\n",
      "2147483647\n",
      "10\n",
      "25.5\n",
      "20\n",
      "24.2\n"
     ]
    }
   ],
   "source": [
    "public class Unboxing_stream {\n",
    "    public static void main(String[] args) { //main code\n",
    "        int i1 = 10; // primitive data types\n",
    "        double d1 = 25.5;\n",
    "\n",
    "        Integer I1 = new Integer(i1); // Construction of the Wrapper classes version (superior)\n",
    "        Double D1 = new Double(d1);\n",
    "\n",
    "        System.out.println(i1); // The values correspond to their original values\n",
    "        System.out.println(I1);\n",
    "        System.out.println(d1);\n",
    "        System.out.println(D1);\n",
    "\n",
    "        int i2 = I1.intValue()+5; //usage of the intValue function\n",
    "        System.out.println(i2);\n",
    "        double d2 = D1.intValue()-1.3; //usage of the doubleValue function\n",
    "        System.out.println(d2);\n",
    "\n",
    "        System.out.println(Integer.MIN_VALUE); // the actual values of the MIN_VALUE and MAX_VALUE\n",
    "        System.out.println(Integer.MAX_VALUE);\n",
    "\n",
    "        Integer I2 = i1; // autoboxing bypasses the need for contructor methods\n",
    "        Double D2 = d1;\n",
    "        System.out.println(I2);\n",
    "        System.out.println(D2);\n",
    "\n",
    "        int i3 = I2+10; // unboxing without using any methods\n",
    "        double d3 = D2-1.3;\n",
    "        System.out.println(i3);\n",
    "        System.out.println(d3);\n",
    "    }\n",
    "}\n",
    "Unboxing_stream.main(null);"
   ]
  },
  {
   "cell_type": "markdown",
   "metadata": {},
   "source": [
    "### the Math class\n",
    "Talking about the java object here, math offers several useful method for mathmatical usages.\n",
    "- Math methods are static, they belong to the class instead of an object and can be used without creating an object\n",
    "- the Math class is already imported as part of java.lane.Math\n",
    "    - However, you can use the methods without using the Math prefix with the import command import static java.lang.Math.*\n",
    "\n",
    "|Syntax|Definition|\n",
    "|-|-|\n",
    "|static int abs(int x)|Returns the absolute value of a int|\n",
    "|static double abs(double x)|Returns the absolute value of a double|\n",
    "|static double pow(double base, double exponent)|Returns the value of base to the exponent power|\n",
    "|static double random()|Returns a random double between 0.0 and 1.0|\n"
   ]
  },
  {
   "cell_type": "code",
   "execution_count": 6,
   "metadata": {},
   "outputs": [
    {
     "name": "stdout",
     "output_type": "stream",
     "text": [
      "12.5\n",
      "5\n",
      "625.0\n",
      "true\n"
     ]
    }
   ],
   "source": [
    "import static java.lang.Math.*; // implicit importation \n",
    "\n",
    "public class maths_demo {\n",
    "    public static void main(String[] args) { //main code\n",
    "        double a=12.5; // ints we will use\n",
    "        int b=-5;\n",
    "        int c=4;\n",
    "\n",
    "        System.out.println(abs(a)); // prints the absolute values of a and b\n",
    "        System.out.println(abs(b)); // should have no effect on a but b should be turned to its opposite (the positive number)\n",
    "\n",
    "        System.out.println(pow(b,c)); // prints the result of b to c\n",
    "\n",
    "        System.out.println(random()*10>4); // returns true if a random number from 0 to 10 is greater than 4, this should return different values with different runs.\n",
    "    }\n",
    "}\n",
    "\n",
    "maths_demo.main(null);"
   ]
  },
  {
   "cell_type": "markdown",
   "metadata": {},
   "source": [
    "#### Popcorn hacks\n",
    "Create a variation of the number guessing game and try to use these methods in. Bonus points for creativity."
   ]
  },
  {
   "cell_type": "code",
   "execution_count": 23,
   "metadata": {},
   "outputs": [
    {
     "name": "stdout",
     "output_type": "stream",
     "text": [
      "Welcome to Guess the Mystery Number Game!\n",
      "Try to guess the mystery number between 1 and 100."
     ]
    },
    {
     "name": "stdout",
     "output_type": "stream",
     "text": [
      "\n",
      "Enter your guess: Too low!\n",
      "Guesses remaining: 9\n",
      "Enter your guess: Too low!\n",
      "Guesses remaining: 8\n",
      "Enter your guess: Too low!\n",
      "Guesses remaining: 7\n",
      "Enter your guess: Too low!\n",
      "Guesses remaining: 6\n",
      "Enter your guess: Too low!\n",
      "Guesses remaining: 5\n",
      "Enter your guess: Too low!\n",
      "Guesses remaining: 4\n",
      "Enter your guess: Too high!\n",
      "Guesses remaining: 3\n",
      "Enter your guess: Too low!\n",
      "Guesses remaining: 2\n",
      "Enter your guess: Too low!\n",
      "Guesses remaining: 1\n",
      "Enter your guess: Congratulations! You guessed the mystery number 98!\n"
     ]
    }
   ],
   "source": [
    "import java.util.Scanner;\n",
    "import java.util.Random;\n",
    "\n",
    "public class NumberGuess {\n",
    "    public static void main(String[] args) {\n",
    "        Random random = new Random();\n",
    "        int mysteryNumber = random.nextInt(100) + 1;\n",
    "\n",
    "        System.out.println(\"Welcome to Guess the Mystery Number Game!\");\n",
    "        System.out.println(\"Try to guess the mystery number between 1 and 100.\");\n",
    "\n",
    "        int maxGuesses = 10;\n",
    "        int guesses = 0;\n",
    "\n",
    "        Scanner scanner = new Scanner(System.in);\n",
    "\n",
    "        while (guesses < maxGuesses) {\n",
    "            System.out.print(\"Enter your guess: \");\n",
    "            int playerGuess = scanner.nextInt();\n",
    "\n",
    "            if (playerGuess == mysteryNumber) {\n",
    "                System.out.println(\"Congratulations! You guessed the mystery number \" + mysteryNumber + \"!\");\n",
    "                break;\n",
    "            } else if (playerGuess < mysteryNumber) {\n",
    "                System.out.println(\"Too low!\");\n",
    "            } else {\n",
    "                System.out.println(\"Too high!\");\n",
    "            }\n",
    "\n",
    "            guesses++;\n",
    "            System.out.println(\"Guesses remaining: \" + (maxGuesses - guesses));\n",
    "        }\n",
    "\n",
    "        if (guesses == maxGuesses) {\n",
    "            System.out.println(\"No more guesses!. The number was: \" + mysteryNumber);\n",
    "        }\n",
    "\n",
    "        scanner.close();\n",
    "    }\n",
    "}\n",
    "\n",
    "NumberGuess.main(null)"
   ]
  },
  {
   "cell_type": "markdown",
   "metadata": {},
   "source": [
    "## Hacks\n",
    "> Complete all popcorn hacks\n",
    "> ### [Quiz](https://docs.google.com/forms/d/e/1FAIpQLScr-jf31aGlkrNUrgu_xyyq29GOfruPDv7_YKKYyWpWqWH_9Q/viewform?usp=sf_link)"
   ]
  },
  {
   "cell_type": "code",
   "execution_count": 9,
   "metadata": {},
   "outputs": [
    {
     "name": "stdout",
     "output_type": "stream",
     "text": [
      "Average score: 88.16666666666667\n",
      "Updated scores: [85, 92, 95, 88, 91, 89]\n"
     ]
    }
   ],
   "source": [
    "import java.util.ArrayList;\n",
    "\n",
    "public class StudentScoreManager {\n",
    "\n",
    "    public static void main(String[] args) {\n",
    "        ArrayList<Integer> studentScores = new ArrayList<>();\n",
    "\n",
    "        studentScores.add(85);\n",
    "        studentScores.add(92);\n",
    "        studentScores.add(78);\n",
    "        studentScores.add(95);\n",
    "        studentScores.add(88);\n",
    "        studentScores.add(91);\n",
    "\n",
    "        double averageScore = calculateAverage(studentScores);\n",
    "        System.out.println(\"Average score: \" + averageScore);\n",
    "\n",
    "        removeBelow80(studentScores);\n",
    "\n",
    "        studentScores.add(89);\n",
    "\n",
    "        System.out.println(\"Updated scores: \" + studentScores);\n",
    "    }\n",
    "\n",
    "    private static double calculateAverage(ArrayList<Integer> scores) {\n",
    "        if (scores.isEmpty())\n",
    "            return 0;\n",
    "\n",
    "        int sum = 0;\n",
    "        for (int score : scores) {\n",
    "            sum += score;\n",
    "        }\n",
    "\n",
    "        return (double) sum / scores.size();\n",
    "    }\n",
    "\n",
    "    private static void removeBelow80(ArrayList<Integer> scores) {\n",
    "        scores.removeIf(score -> score < 80);\n",
    "    }\n",
    "}\n",
    "StudentScoreManager.main(null)"
   ]
  },
  {
   "cell_type": "code",
   "execution_count": 8,
   "metadata": {},
   "outputs": [
    {
     "name": "stdout",
     "output_type": "stream",
     "text": [
      "Integer 1: 14\n",
      "Integer 2: 98\n",
      "Integer 3: 26\n",
      "Integer 4: 43\n",
      "Integer 5: 75\n"
     ]
    }
   ],
   "source": [
    "import java.util.Random;\n",
    "\n",
    "public class RandomInteger {\n",
    "    public static void main(String[] args) {\n",
    "        Random random = new Random();\n",
    "\n",
    "        for (int i = 0; i < 5; i++) {\n",
    "            int randomNumber = random.nextInt(100) + 1;  \n",
    "            System.out.println(\"Integer \" + (i + 1) + \": \" + randomNumber);\n",
    "        }\n",
    "    }\n",
    "}\n",
    "RandomInteger.main(null)"
   ]
  }
 ],
 "metadata": {
  "kernelspec": {
   "display_name": "Java",
   "language": "java",
   "name": "java"
  },
  "language_info": {
   "codemirror_mode": "java",
   "file_extension": ".jshell",
   "mimetype": "text/x-java-source",
   "name": "java",
   "pygments_lexer": "java",
   "version": "11.0.20+8-post-Ubuntu-1ubuntu120.04"
  },
  "orig_nbformat": 4
 },
 "nbformat": 4,
 "nbformat_minor": 2
}
