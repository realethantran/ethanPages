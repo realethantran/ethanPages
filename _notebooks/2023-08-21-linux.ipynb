{
 "cells": [
  {
   "cell_type": "markdown",
   "metadata": {},
   "source": [
    "---\n",
    "toc: true\n",
    "comments: true\n",
    "layout: post\n",
    "title: Linux Install & Version Check\n",
    "description: Check for tool installations and versions\n",
    "type: hacks\n",
    "courses: { csa: {week: 1} }\n",
    "\n",
    "---"
   ]
  },
  {
   "cell_type": "code",
   "execution_count": 7,
   "metadata": {
    "vscode": {
     "languageId": "shellscript"
    }
   },
   "outputs": [
    {
     "name": "stdout",
     "output_type": "stream",
     "text": [
      "Python3 is installed\n",
      "Python 3.9.12\n",
      "Jupyter is installed\n",
      "Selected Jupyter core packages...\n",
      "IPython          : 8.2.0\n",
      "ipykernel        : 6.9.1\n",
      "ipywidgets       : 7.6.5\n",
      "jupyter_client   : 6.1.12\n",
      "jupyter_core     : 4.9.2\n",
      "jupyter_server   : 1.13.5\n",
      "jupyterlab       : 3.3.2\n",
      "nbclient         : 0.5.13\n",
      "nbconvert        : 6.4.4\n",
      "nbformat         : 5.3.0\n",
      "notebook         : 6.4.8\n",
      "qtconsole        : 5.3.0\n",
      "traitlets        : 5.1.1\n",
      "JavaScript is installed\n",
      "v6.11.2\n",
      "Java is installed\n",
      "openjdk version \"11.0.20\" 2023-07-18\n",
      "OpenJDK Runtime Environment (build 11.0.20+8-post-Ubuntu-1ubuntu120.04)\n",
      "OpenJDK 64-Bit Server VM (build 11.0.20+8-post-Ubuntu-1ubuntu120.04, mixed mode, sharing)\n",
      "Docker is installed\n",
      "Docker version 24.0.5, build ced0996\n"
     ]
    }
   ],
   "source": [
    "# check for Python3 version\n",
    "if command -v python3 &>/dev/null; then\n",
    "    echo \"Python3 is installed\"\n",
    "    python3 --version\n",
    "else\n",
    "    echo \"Python3 is not installed\"\n",
    "fi\n",
    "\n",
    "# check for Jupyter version\n",
    "if command -v jupyter &>/dev/null; then\n",
    "    echo \"Jupyter is installed\"\n",
    "    jupyter --version\n",
    "else\n",
    "    echo \"Jupyter is not installed\"\n",
    "fi\n",
    "\n",
    "# check for Node.js (JavaScript) version\n",
    "if command -v node &>/dev/null; then\n",
    "    echo \"JavaScript is installed\"\n",
    "    node -v\n",
    "else\n",
    "    echo \"JavaScript is not installed\"\n",
    "fi\n",
    "\n",
    "# check for Java version\n",
    "if command -v java &>/dev/null; then\n",
    "    echo \"Java is installed\"\n",
    "    java -version\n",
    "else\n",
    "    echo \"Java is not installed\"\n",
    "fi\n",
    "\n",
    "# check for Docker version\n",
    "if command -v docker &>/dev/null; then\n",
    "    echo \"Docker is installed\"\n",
    "    docker --version\n",
    "else\n",
    "    echo \"Docker is not installed\"\n",
    "fi\n"
   ]
  }
 ],
 "metadata": {
  "kernelspec": {
   "display_name": "Bash",
   "language": "bash",
   "name": "bash"
  },
  "language_info": {
   "codemirror_mode": "shell",
   "file_extension": ".sh",
   "mimetype": "text/x-sh",
   "name": "bash"
  },
  "orig_nbformat": 4
 },
 "nbformat": 4,
 "nbformat_minor": 2
}
