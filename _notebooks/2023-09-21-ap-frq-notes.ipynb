{
 "cells": [
  {
   "cell_type": "markdown",
   "metadata": {},
   "source": [
    "---\n",
    "toc: true\n",
    "comments: true\n",
    "layout: post\n",
    "title: AP CSA FRQ Notes\n",
    "description: Notes on student frq presentations\n",
    "type: hacks\n",
    "courses: {csa: {week: 5} }\n",
    "---"
   ]
  },
  {
   "cell_type": "markdown",
   "metadata": {},
   "source": [
    "## Notes\n",
    "\n",
    "### Emma\n",
    "- Classes\n",
    "- Visual to show Class is blueprint for objects\n",
    "- Book class given, made Textbook class which is a subclass of Book\n",
    "- Textbook stores edition for different textbooks\n",
    "- Boolean expression made to check if textbooks have the same name and edition to see if they can substitute for one another\n",
    "- getBookInfo() used to show textbook information\n",
    "\n",
    "### Asam\n",
    "- Array/ArrayLists\n",
    "- Modifying ArrayLists to make sure they fit certain parameters\n",
    "- For loop checks if temperatures are above or below the desired temperature to modify the ArrayList\n",
    "- longestHeatWave() method used to track current heatwave over course of 2 days\n",
    "- When deleting from list, iterate backwards so that the list does not shrink\n",
    "                                                                                                                                        \n",
    "### Raunak\n",
    "- "
   ]
  }
 ],
 "metadata": {
  "kernelspec": {
   "display_name": "base",
   "language": "python",
   "name": "python3"
  },
  "language_info": {
   "name": "python",
   "version": "3.9.12"
  },
  "orig_nbformat": 4
 },
 "nbformat": 4,
 "nbformat_minor": 2
}
