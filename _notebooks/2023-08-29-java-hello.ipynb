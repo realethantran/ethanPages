{
 "cells": [
  {
   "cell_type": "markdown",
   "metadata": {},
   "source": [
    "---\n",
    "toc: true\n",
    "comments: true\n",
    "layout: post\n",
    "title: Java Hello (Classes)\n",
    "description: \n",
    "type: hacks\n",
    "courses: {csa: {week: 1} }\n",
    "\n",
    "---"
   ]
  },
  {
   "cell_type": "markdown",
   "metadata": {},
   "source": [
    "The beginning of the code defines the SuperHero class with private instance variables. The SuperHero class has a default constructor that initializes the instance variables to empty values.\n",
    "\n",
    "<html>\n",
    "<img src=\"https://github.com/realethantran/ethan_student/assets/109186517/936e9858-7a69-495b-ac6d-9b1a04ee6e36\" height=\"550px\">\n",
    "</html>"
   ]
  },
  {
   "cell_type": "code",
   "execution_count": 7,
   "metadata": {},
   "outputs": [
    {
     "name": "stdout",
     "output_type": "stream",
     "text": [
      "Details of Batman:\n",
      "Name: Batman\n",
      "Affiliation: Justice League\n",
      "Secret Identity: Bruce Wayne\n",
      "Powers: None\n"
     ]
    }
   ],
   "source": [
    "// class definition for SuperHero\n",
    "public class SuperHero {\n",
    "    // private instance variables\n",
    "    private String Name;\n",
    "    private String Affiliation;\n",
    "    private String SecretIdentity;\n",
    "    private String Powers;\n",
    "\n",
    "    // constructor w/o parameters\n",
    "    public SuperHero() {\n",
    "        Name = \"\";\n",
    "        Affiliation = \"\";\n",
    "        SecretIdentity = \"\";\n",
    "        Powers = \"\";\n",
    "    }\n",
    "\n",
    "    // parameterized constructor\n",
    "    public SuperHero(String name, String affiliation, String secretIdentity, String powers) {\n",
    "        this.Name = name;\n",
    "        this.Affiliation = affiliation;\n",
    "        this.SecretIdentity = secretIdentity;\n",
    "        this.Powers = powers;\n",
    "    }\n",
    "\n",
    "    // setters to set the values of instance variables\n",
    "    public void setName(String name) {\n",
    "        Name = name;\n",
    "    }\n",
    "\n",
    "    public void setAffiliation(String affiliation) {\n",
    "        Affiliation = affiliation;\n",
    "    }\n",
    "\n",
    "    public void setSecretIdentity(String secretIdentity) {\n",
    "        SecretIdentity = secretIdentity;\n",
    "    }\n",
    "\n",
    "    public void setPowers(String powers) {\n",
    "        Powers = powers;\n",
    "    }\n",
    "\n",
    "    // getters to get the values of instance variables\n",
    "    public String getName() {\n",
    "        return Name;\n",
    "    }\n",
    "\n",
    "    public String getAffiliation() {\n",
    "        return Affiliation;\n",
    "    }\n",
    "\n",
    "    public String getSecretIdentity() {\n",
    "        return SecretIdentity;\n",
    "    }\n",
    "\n",
    "    public String getPowers() {\n",
    "        return Powers;\n",
    "    }\n",
    "\n",
    "    public static void main(String[] args) {\n",
    "        // create an instance using the default constructor\n",
    "        SuperHero batman = new SuperHero();\n",
    "\n",
    "        // set the attributes of the superhero object\n",
    "        batman.setName(\"Batman\");\n",
    "        batman.setAffiliation(\"Justice League\");\n",
    "        batman.setSecretIdentity(\"Bruce Wayne\");\n",
    "        batman.setPowers(\"None\");\n",
    "\n",
    "        // create an instance using the parameterized constructor\n",
    "        SuperHero ultimate_spiderman = new SuperHero(\n",
    "            \"Spiderman\",\n",
    "            \"Champions\",\n",
    "            \"Miles Morales\",\n",
    "            \"Super strength, super speed, agility, cling to solid surfaces, invisibility, and venom strike.\"\n",
    "        );\n",
    "        System.out.println(\"Details of Batman:\");\n",
    "        System.out.println(\"Name: \" + batman.getName());\n",
    "        System.out.println(\"Affiliation: \" + batman.getAffiliation());\n",
    "        System.out.println(\"Secret Identity: \" + batman.getSecretIdentity());\n",
    "        System.out.println(\"Powers: \" + batman.getPowers());\n",
    "    }\n",
    "}\n",
    "SuperHero.main(null);\n",
    "\n",
    "// using getters I can retrieve the values of instance variables. For example, here I am retrieving the values of the attributes for the Batman instance."
   ]
  },
  {
   "cell_type": "code",
   "execution_count": 24,
   "metadata": {},
   "outputs": [
    {
     "name": "stdout",
     "output_type": "stream",
     "text": [
      "City Name: San Diego\n",
      "State: California\n",
      "Motto: Semper Vigilans\n",
      "City Name: Tallahassee\n",
      "State: Florida\n",
      "Motto: Where There Are Hills\n"
     ]
    }
   ],
   "source": [
    "public class City {\n",
    "    String name;\n",
    "    String state;\n",
    "    String motto;\n",
    "\n",
    "    public City(String name, String state, String motto) {\n",
    "        this.name = name;\n",
    "        this.state = state;\n",
    "        this.motto = motto;\n",
    "    }\n",
    "\n",
    "    public static void main(String[] args) {\n",
    "        City sanDiego = new City(\"San Diego\", \"California\", \"Semper Vigilans\");\n",
    "        System.out.println(\"City Name: \" + sanDiego.name);\n",
    "        System.out.println(\"State: \" + sanDiego.state);\n",
    "        System.out.println(\"Motto: \" + sanDiego.motto);\n",
    "\n",
    "        City tallahassee = new City(\"Tallahassee\", \"Florida\", \"Where There Are Hills\");\n",
    "        System.out.println(\"City Name: \" + tallahassee.name);\n",
    "        System.out.println(\"State: \" + tallahassee.state);\n",
    "        System.out.println(\"Motto: \" + tallahassee.motto);\n",
    "    }\n",
    "}\n",
    "City.main(null);\n"
   ]
  }
 ],
 "metadata": {
  "kernelspec": {
   "display_name": "Java",
   "language": "java",
   "name": "java"
  },
  "language_info": {
   "codemirror_mode": "java",
   "file_extension": ".jshell",
   "mimetype": "text/x-java-source",
   "name": "java",
   "pygments_lexer": "java",
   "version": "11.0.20+8-post-Ubuntu-1ubuntu120.04"
  },
  "orig_nbformat": 4
 },
 "nbformat": 4,
 "nbformat_minor": 2
}
