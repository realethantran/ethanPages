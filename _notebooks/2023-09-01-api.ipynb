{
 "cells": [
  {
   "cell_type": "markdown",
   "metadata": {},
   "source": [
    "---\n",
    "toc: true\n",
    "comments: true\n",
    "layout: post\n",
    "title: API Output\n",
    "description: Testing API output using NASA's Astronomy Picture Of The Day API!\n",
    "type: hacks\n",
    "courses: {csa: {week: 2} }\n",
    "---"
   ]
  },
  {
   "cell_type": "markdown",
   "metadata": {},
   "source": [
    "<html>\n",
    "<head>\n",
    "    <title>Astronomy Picture of the Day</title>\n",
    "</head>\n",
    "<body>\n",
    "    <h1>Astronomy Picture of the Day Navigator</h1>\n",
    "    <label for=\"datePicker\">Select Date:</label>\n",
    "    <input type=\"date\" id=\"datePicker\">\n",
    "    <button id=\"fetchButton\">View</button>\n",
    "    <div id=\"apodImage\">\n",
    "        <!-- APOD image here -->\n",
    "    </div>\n",
    "    <p id=\"apodTitle\"></p>\n",
    "    <p id=\"apodDescription\"></p>\n",
    "    <script>\n",
    "        document.addEventListener(\"DOMContentLoaded\", function () {\n",
    "            const apiKey = 'buMGSCHxrnLcuYbdzMQgTEHh4nYzKKUpke9BueiS';\n",
    "            const fetchButton = document.getElementById('fetchButton');\n",
    "            fetchButton.addEventListener('click', function () {\n",
    "                const date = document.getElementById('datePicker').value;\n",
    "                const apiUrl = `https://api.nasa.gov/planetary/apod?api_key=${apiKey}&date=${date}`; // data fetched from url using key and date\n",
    "                fetch(apiUrl) // fetch request\n",
    "                    .then(response => response.json())\n",
    "                    .then(data => {\n",
    "                        const apodImage = document.getElementById('apodImage');\n",
    "                        const apodTitle = document.getElementById('apodTitle');\n",
    "                        const apodDescription = document.getElementById('apodDescription');\n",
    "                        apodImage.innerHTML = `<img src=\"${data.url}\" alt=\"APOD\">`;\n",
    "                        apodTitle.textContent = data.title;\n",
    "                        apodDescription.textContent = data.explanation;\n",
    "                    })\n",
    "                    .catch(error => { // handling errors\n",
    "                        console.error('Error fetching APOD:', error);\n",
    "                    });\n",
    "            });\n",
    "        });\n",
    "    </script>\n",
    "</body>\n",
    "</html>\n"
   ]
  }
 ],
 "metadata": {
  "kernelspec": {
   "display_name": "base",
   "language": "python",
   "name": "python3"
  },
  "language_info": {
   "codemirror_mode": "java",
   "file_extension": ".jshell",
   "mimetype": "text/x-java-source",
   "name": "python",
   "pygments_lexer": "java",
   "version": "3.9.12"
  },
  "orig_nbformat": 4
 },
 "nbformat": 4,
 "nbformat_minor": 2
}
